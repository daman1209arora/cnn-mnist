{
  "nbformat": 4,
  "nbformat_minor": 0,
  "metadata": {
    "colab": {
      "name": "Copy of mnist-cnn.ipynb",
      "provenance": [],
      "collapsed_sections": [],
      "authorship_tag": "ABX9TyN13eCzJWyG+YsFQX6HzXLV",
      "include_colab_link": true
    },
    "kernelspec": {
      "name": "python3",
      "display_name": "Python 3"
    },
    "accelerator": "GPU"
  },
  "cells": [
    {
      "cell_type": "markdown",
      "metadata": {
        "id": "view-in-github",
        "colab_type": "text"
      },
      "source": [
        "<a href=\"https://colab.research.google.com/github/daman1209arora/cnn-mnist/blob/main/Copy_of_mnist_cnn.ipynb\" target=\"_parent\"><img src=\"https://colab.research.google.com/assets/colab-badge.svg\" alt=\"Open In Colab\"/></a>"
      ]
    },
    {
      "cell_type": "code",
      "metadata": {
        "id": "XNwEHMai2eqp"
      },
      "source": [
        "import torch\n",
        "import torch.nn as nn\n",
        "import torch.nn.functional as F\n",
        "import torch.optim as optim\n",
        "import torchvision"
      ],
      "execution_count": null,
      "outputs": []
    },
    {
      "cell_type": "markdown",
      "metadata": {
        "id": "v3yFQkVcNi_8"
      },
      "source": [
        "# **Classification using a normal neural network**\n",
        "\n",
        "**Architecture:**\n",
        "\n",
        "*   4 fully connected layers consisting of 100, 35, 23, and 10 neurons\n",
        "*   Activation function used is relU for all but the last layer. In that last layer, softmax is used.\n"
      ]
    },
    {
      "cell_type": "code",
      "metadata": {
        "id": "yOoSy5CdnhaM"
      },
      "source": [
        "class NNModel(nn.Module):\n",
        "    def __init__(self):\n",
        "        super().__init__()\n",
        "        self.fc1 = nn.Linear(784, 100)\n",
        "        self.fc2 = nn.Linear(100, 35)\n",
        "        self.fc3 = nn.Linear(35, 23)\n",
        "        self.fc4 = nn.Linear(23, 10)\n",
        "    \n",
        "    def forward(self, x):\n",
        "        x = F.relu(self.fc1(x))\n",
        "        x = F.relu(self.fc2(x))\n",
        "        x = F.relu(self.fc3(x))\n",
        "        x = F.softmax(self.fc4(x), dim=1)\n",
        "        return x\n",
        "    \n",
        "\n",
        "nn_model = NNModel()\n",
        "loss_function = nn.CrossEntropyLoss()\n",
        "optimizer = optim.Adam(nn_model.parameters())"
      ],
      "execution_count": null,
      "outputs": []
    },
    {
      "cell_type": "markdown",
      "metadata": {
        "id": "s7FDYf-PNrtT"
      },
      "source": [
        "# **Code for setting up the training**\n",
        "\n",
        "*   Batch size = 50\n",
        "*   No of epochs = 5\n",
        "*   Train-test split = 90:10\n",
        "*   Optimiser = Adam\n",
        "\n"
      ]
    },
    {
      "cell_type": "code",
      "metadata": {
        "id": "D_My8BwQqU-U",
        "outputId": "4bea8663-b52c-4410-d6aa-f3190ce27d11",
        "colab": {
          "base_uri": "https://localhost:8080/",
          "height": 187
        }
      },
      "source": [
        "mnist_data = torchvision.datasets.MNIST(\"./data\", download=True, transform=torchvision.transforms.ToTensor())\n",
        "size = len(mnist_data)\n",
        "\n",
        "train_data, test_data = torch.utils.data.random_split(mnist_data, [int(0.9 * size), int(0.1 * size)])\n",
        "\n",
        "train_data_loader = torch.utils.data.DataLoader(train_data, 32, shuffle=True)\n",
        "\n",
        "total_loss = 0\n",
        "for epoch in range(5):\n",
        "    for i, data in enumerate(train_data_loader, 0):\n",
        "        images, labels = data\n",
        "        images = torch.flatten(images, start_dim=1)\n",
        "        optimizer.zero_grad()\n",
        "\n",
        "        output = nn_model(images)\n",
        "        loss = loss_function(output, labels)\n",
        "        loss.backward()\n",
        "        optimizer.step()\n",
        "        total_loss += loss.item() \n",
        "\n",
        "    print(\"After epoch {}, loss: {}\".format(epoch + 1, total_loss))\n",
        "    correct = 0\n",
        "    total = 0\n",
        "\n",
        "    test_data_loader = torch.utils.data.DataLoader(test_data, 5, shuffle=True)\n",
        "    with torch.no_grad():\n",
        "        for i, data in enumerate(test_data_loader, 0):\n",
        "            images, labels = data\n",
        "            images = torch.flatten(images, start_dim=1)\n",
        "            output = nn_model(images)\n",
        "            _, predicted = torch.max(output.data, 1)\n",
        "            total += labels.size(0)\n",
        "            correct += (predicted == labels).sum().item()\n",
        "        \n",
        "    print(\"Accuracy on the test set:\", 100 * correct / total)\n",
        "    total_loss = 0"
      ],
      "execution_count": null,
      "outputs": [
        {
          "output_type": "stream",
          "text": [
            "After epoch 1, loss: 2838.7731684446335\n",
            "Accuracy on the test set: 84.16666666666667\n",
            "After epoch 2, loss: 2680.9523997306824\n",
            "Accuracy on the test set: 92.9\n",
            "After epoch 3, loss: 2562.3945639133453\n",
            "Accuracy on the test set: 94.76666666666667\n",
            "After epoch 4, loss: 2544.841208100319\n",
            "Accuracy on the test set: 93.91666666666667\n",
            "After epoch 5, loss: 2535.277930378914\n",
            "Accuracy on the test set: 95.68333333333334\n"
          ],
          "name": "stdout"
        }
      ]
    },
    {
      "cell_type": "markdown",
      "metadata": {
        "id": "HM1mJ6lkOaIJ"
      },
      "source": [
        "# **Classification using a Convolutional Neural Network**\n",
        "**Architecture:**\\\n",
        "1) Convolutional layer(input channels: 1, output channels: 10, kernel size: 5)\\\n",
        "2) Max-pooling layer(kernel size: 2)\\\n",
        "3) Convolutional layer(input channels: 10, output channels: 15, kernel size: 5)\\\n",
        "4) Flatten the output channels to form a tensor of dimensions (batch_size, 240)\\\n",
        "5) 3 fully connected layers of 100, 35, and 10 neurons\n",
        "\n"
      ]
    },
    {
      "cell_type": "code",
      "metadata": {
        "id": "WG77WAkohQHk"
      },
      "source": [
        "class CNNModel(nn.Module):\n",
        "    def __init__(self):\n",
        "        super().__init__()\n",
        "        self.conv1 = nn.Conv2d(in_channels=1, out_channels=10, kernel_size=5)\n",
        "        self.pool = nn.MaxPool2d(2, 2)\n",
        "        self.conv2 = nn.Conv2d(in_channels=10, out_channels=15, kernel_size=5)\n",
        "        self.fc1 = nn.Linear(15 * 4 * 4, 100)\n",
        "        self.fc2 = nn.Linear(100, 35)\n",
        "        self.fc3 = nn.Linear(35, 10)\n",
        "    \n",
        "    def forward(self, x):\n",
        "        x = F.relu(self.conv1(x))\n",
        "        x = self.pool(x)\n",
        "        x = F.relu(self.conv2(x))\n",
        "        x = self.pool(x)\n",
        "        x = x.view(-1, 15 * 4 * 4)\n",
        "        x = F.relu(self.fc1(x))\n",
        "        x = F.relu(self.fc2(x))\n",
        "        return F.softmax(self.fc3(x), dim=1)\n",
        "    \n",
        "\n",
        "cnn_model = CNNModel()\n",
        "loss_function = nn.CrossEntropyLoss()\n",
        "optimizer = optim.Adam(cnn_model.parameters())"
      ],
      "execution_count": null,
      "outputs": []
    },
    {
      "cell_type": "markdown",
      "metadata": {
        "id": "xR_sFoRWQlQY"
      },
      "source": [
        "# **Code for setting up the training**\n",
        "\n",
        "*   Batch size = 50\n",
        "*   No of epochs = 5\n",
        "*   Train-test split = 90:10\n",
        "*   Optimiser = Adam\n"
      ]
    },
    {
      "cell_type": "code",
      "metadata": {
        "id": "qZo4OM2-Ku7P",
        "outputId": "933124fe-ea6d-4b98-df20-527e9baaded1",
        "colab": {
          "base_uri": "https://localhost:8080/",
          "height": 187
        }
      },
      "source": [
        "mnist_data = torchvision.datasets.MNIST(\"./data\", download=True, transform=torchvision.transforms.ToTensor())\n",
        "size = len(mnist_data)\n",
        "\n",
        "train_data, test_data = torch.utils.data.random_split(mnist_data, [int(0.9 * size), int(0.1 * size)])\n",
        "\n",
        "train_data_loader = torch.utils.data.DataLoader(train_data, 50, shuffle=True)\n",
        "\n",
        "total_loss = 0\n",
        "for epoch in range(5):\n",
        "    for i, data in enumerate(train_data_loader, 0):\n",
        "        images, labels = data\n",
        "        #images = torch.flatten(images, start_dim=1)\n",
        "        optimizer.zero_grad()\n",
        "\n",
        "        output = cnn_model(images)\n",
        "        loss = loss_function(output, labels)\n",
        "        loss.backward()\n",
        "        optimizer.step()\n",
        "        total_loss += loss.item() \n",
        "\n",
        "    print(\"After epoch {}, loss: {}\".format(epoch + 1, total_loss))\n",
        "    correct = 0\n",
        "    total = 0\n",
        "\n",
        "    test_data_loader = torch.utils.data.DataLoader(test_data, 5, shuffle=True)\n",
        "    with torch.no_grad():\n",
        "        for i, data in enumerate(test_data_loader, 0):\n",
        "            images, labels = data\n",
        "            #images = torch.flatten(images, start_dim=1)\n",
        "            output = cnn_model(images)\n",
        "            _, predicted = torch.max(output.data, 1)\n",
        "            total += labels.size(0)\n",
        "            correct += (predicted == labels).sum().item()\n",
        "        \n",
        "    print(\"Accuracy on the test set:\", 100 * correct / total)\n",
        "    total_loss = 0"
      ],
      "execution_count": null,
      "outputs": [
        {
          "output_type": "stream",
          "text": [
            "After epoch 1, loss: 1832.1089605093002\n",
            "Accuracy on the test set: 85.85\n",
            "After epoch 2, loss: 1696.1449193954468\n",
            "Accuracy on the test set: 97.11666666666666\n",
            "After epoch 3, loss: 1611.422259569168\n",
            "Accuracy on the test set: 97.65\n",
            "After epoch 4, loss: 1603.175191283226\n",
            "Accuracy on the test set: 98.08333333333333\n",
            "After epoch 5, loss: 1600.010668873787\n",
            "Accuracy on the test set: 98.08333333333333\n"
          ],
          "name": "stdout"
        }
      ]
    },
    {
      "cell_type": "markdown",
      "metadata": {
        "id": "gvgUHM6kA_uU"
      },
      "source": [
        "# **Using resnet18 for a Transfer Learning model**"
      ]
    },
    {
      "cell_type": "code",
      "metadata": {
        "id": "YJhkkVxkQuxz"
      },
      "source": [
        "import torchvision.models as models \n",
        "\n",
        "resnet18 = models.vgg16(pretrained=True)\n",
        "\n",
        "for param in resnet18.parameters():\n",
        "    param.requires_grad = False\n",
        "\n",
        "# the 2nd last layer of resnet18 consists of 512 activations\n",
        "# we will use those(not that last layer) to perform transfer learning \n",
        "class FCLayer(nn.Module):\n",
        "    def __init__(self):\n",
        "        super().__init__()\n",
        "        self.fc1 = nn.Linear(512, 100)\n",
        "        self.fc2 = nn.Linear(100, 10)\n",
        "    \n",
        "    def forward(self, x):\n",
        "        x = F.relu(self.fc1(x))\n",
        "        x = F.softmax(self.fc2(x), dim=1)\n",
        "        return x\n",
        "    \n",
        "#resnet18.fc = FCLayer()\n",
        "#resnet18.fc = nn.Linear(512, 10)\n",
        "loss_function = nn.CrossEntropyLoss()\n",
        "optimizer = optim.Adam(resnet18.parameters())\n"
      ],
      "execution_count": null,
      "outputs": []
    },
    {
      "cell_type": "markdown",
      "metadata": {
        "id": "Y04ApQsIBOo2"
      },
      "source": [
        "# **Training the model on MNIST**"
      ]
    },
    {
      "cell_type": "code",
      "metadata": {
        "id": "fsytUdIjQgmd",
        "outputId": "7fe01825-667c-40ba-8483-9f438f8d2906",
        "colab": {
          "base_uri": "https://localhost:8080/",
          "height": 782
        }
      },
      "source": [
        "device = torch.device(\"cuda\" if torch.cuda.is_available() else \"cpu\")\n",
        "torch.cuda.set_device(0)\n",
        "resnet18.to(device)"
      ],
      "execution_count": null,
      "outputs": [
        {
          "output_type": "execute_result",
          "data": {
            "text/plain": [
              "VGG(\n",
              "  (features): Sequential(\n",
              "    (0): Conv2d(3, 64, kernel_size=(3, 3), stride=(1, 1), padding=(1, 1))\n",
              "    (1): ReLU(inplace=True)\n",
              "    (2): Conv2d(64, 64, kernel_size=(3, 3), stride=(1, 1), padding=(1, 1))\n",
              "    (3): ReLU(inplace=True)\n",
              "    (4): MaxPool2d(kernel_size=2, stride=2, padding=0, dilation=1, ceil_mode=False)\n",
              "    (5): Conv2d(64, 128, kernel_size=(3, 3), stride=(1, 1), padding=(1, 1))\n",
              "    (6): ReLU(inplace=True)\n",
              "    (7): Conv2d(128, 128, kernel_size=(3, 3), stride=(1, 1), padding=(1, 1))\n",
              "    (8): ReLU(inplace=True)\n",
              "    (9): MaxPool2d(kernel_size=2, stride=2, padding=0, dilation=1, ceil_mode=False)\n",
              "    (10): Conv2d(128, 256, kernel_size=(3, 3), stride=(1, 1), padding=(1, 1))\n",
              "    (11): ReLU(inplace=True)\n",
              "    (12): Conv2d(256, 256, kernel_size=(3, 3), stride=(1, 1), padding=(1, 1))\n",
              "    (13): ReLU(inplace=True)\n",
              "    (14): Conv2d(256, 256, kernel_size=(3, 3), stride=(1, 1), padding=(1, 1))\n",
              "    (15): ReLU(inplace=True)\n",
              "    (16): MaxPool2d(kernel_size=2, stride=2, padding=0, dilation=1, ceil_mode=False)\n",
              "    (17): Conv2d(256, 512, kernel_size=(3, 3), stride=(1, 1), padding=(1, 1))\n",
              "    (18): ReLU(inplace=True)\n",
              "    (19): Conv2d(512, 512, kernel_size=(3, 3), stride=(1, 1), padding=(1, 1))\n",
              "    (20): ReLU(inplace=True)\n",
              "    (21): Conv2d(512, 512, kernel_size=(3, 3), stride=(1, 1), padding=(1, 1))\n",
              "    (22): ReLU(inplace=True)\n",
              "    (23): MaxPool2d(kernel_size=2, stride=2, padding=0, dilation=1, ceil_mode=False)\n",
              "    (24): Conv2d(512, 512, kernel_size=(3, 3), stride=(1, 1), padding=(1, 1))\n",
              "    (25): ReLU(inplace=True)\n",
              "    (26): Conv2d(512, 512, kernel_size=(3, 3), stride=(1, 1), padding=(1, 1))\n",
              "    (27): ReLU(inplace=True)\n",
              "    (28): Conv2d(512, 512, kernel_size=(3, 3), stride=(1, 1), padding=(1, 1))\n",
              "    (29): ReLU(inplace=True)\n",
              "    (30): MaxPool2d(kernel_size=2, stride=2, padding=0, dilation=1, ceil_mode=False)\n",
              "  )\n",
              "  (avgpool): AdaptiveAvgPool2d(output_size=(7, 7))\n",
              "  (classifier): Sequential(\n",
              "    (0): Linear(in_features=25088, out_features=4096, bias=True)\n",
              "    (1): ReLU(inplace=True)\n",
              "    (2): Dropout(p=0.5, inplace=False)\n",
              "    (3): Linear(in_features=4096, out_features=4096, bias=True)\n",
              "    (4): ReLU(inplace=True)\n",
              "    (5): Dropout(p=0.5, inplace=False)\n",
              "    (6): Linear(in_features=4096, out_features=1000, bias=True)\n",
              "  )\n",
              ")"
            ]
          },
          "metadata": {
            "tags": []
          },
          "execution_count": 37
        }
      ]
    },
    {
      "cell_type": "code",
      "metadata": {
        "id": "sxsNSa3XKFOx",
        "outputId": "54fbb760-f339-4853-9071-83725996eace",
        "colab": {
          "base_uri": "https://localhost:8080/",
          "height": 391
        }
      },
      "source": [
        "data_transform = torchvision.transforms.Compose([torchvision.transforms.Resize((224, 224)), torchvision.transforms.ToTensor()])\n",
        "mnist_data = torchvision.datasets.MNIST(\"./data\", download=True, transform=data_transform)\n",
        "size = len(mnist_data)\n",
        "\n",
        "train_data, test_data = torch.utils.data.random_split(mnist_data, [int(0.9 * size), int(0.1 * size)])\n",
        "train_data_loader = torch.utils.data.DataLoader(train_data, 50, shuffle=True)\n",
        "\n",
        "total_loss = 0\n",
        "for epoch in range(5):\n",
        "    for i, data in enumerate(train_data_loader, 0):\n",
        "        images, labels = data\n",
        "        images, labels = images.to(device), labels.to(device)\n",
        "        images = torch.cat([images, images, images], dim=1)\n",
        "        #images = torch.flatten(images, start_dim=1)\n",
        "        optimizer.zero_grad()\n",
        "\n",
        "        output = resnet18(images)\n",
        "        loss = loss_function(output, labels)\n",
        "        loss.backward()\n",
        "        optimizer.step()\n",
        "        total_loss += loss.item() \n",
        "        if(i % 100 == 99):\n",
        "            print(\"After epoch {}, mini-batch {}, loss: {}\".format(epoch + 1, i + 1, total_loss))\n",
        "            correct = 0\n",
        "            total = 0\n",
        "\n",
        "            test_data_loader = torch.utils.data.DataLoader(test_data, 5, shuffle=True)\n",
        "            with torch.no_grad():\n",
        "                for i, data in enumerate(test_data_loader, 0):\n",
        "                    images, labels = data\n",
        "                    images, labels = images.to(device), labels.to(device)\n",
        "                    images = torch.cat([images, images, images], dim=1)\n",
        "                    output = resnet18(images)\n",
        "                    _, predicted = torch.max(output.data, 1)\n",
        "                    total += labels.size(0)\n",
        "                    correct += (predicted == labels).sum().item()\n",
        "                \n",
        "            print(\"Accuracy on the test set:\", 100 * correct / total)\n",
        "            total_loss = 0\n",
        "    total_loss = 0"
      ],
      "execution_count": null,
      "outputs": [
        {
          "output_type": "error",
          "ename": "RuntimeError",
          "evalue": "ignored",
          "traceback": [
            "\u001b[0;31m---------------------------------------------------------------------------\u001b[0m",
            "\u001b[0;31mRuntimeError\u001b[0m                              Traceback (most recent call last)",
            "\u001b[0;32m<ipython-input-35-cf9d4d547656>\u001b[0m in \u001b[0;36m<module>\u001b[0;34m()\u001b[0m\n\u001b[1;32m     17\u001b[0m         \u001b[0moutput\u001b[0m \u001b[0;34m=\u001b[0m \u001b[0mresnet18\u001b[0m\u001b[0;34m(\u001b[0m\u001b[0mimages\u001b[0m\u001b[0;34m)\u001b[0m\u001b[0;34m\u001b[0m\u001b[0;34m\u001b[0m\u001b[0m\n\u001b[1;32m     18\u001b[0m         \u001b[0mloss\u001b[0m \u001b[0;34m=\u001b[0m \u001b[0mloss_function\u001b[0m\u001b[0;34m(\u001b[0m\u001b[0moutput\u001b[0m\u001b[0;34m,\u001b[0m \u001b[0mlabels\u001b[0m\u001b[0;34m)\u001b[0m\u001b[0;34m\u001b[0m\u001b[0;34m\u001b[0m\u001b[0m\n\u001b[0;32m---> 19\u001b[0;31m         \u001b[0mloss\u001b[0m\u001b[0;34m.\u001b[0m\u001b[0mbackward\u001b[0m\u001b[0;34m(\u001b[0m\u001b[0;34m)\u001b[0m\u001b[0;34m\u001b[0m\u001b[0;34m\u001b[0m\u001b[0m\n\u001b[0m\u001b[1;32m     20\u001b[0m         \u001b[0moptimizer\u001b[0m\u001b[0;34m.\u001b[0m\u001b[0mstep\u001b[0m\u001b[0;34m(\u001b[0m\u001b[0;34m)\u001b[0m\u001b[0;34m\u001b[0m\u001b[0;34m\u001b[0m\u001b[0m\n\u001b[1;32m     21\u001b[0m         \u001b[0mtotal_loss\u001b[0m \u001b[0;34m+=\u001b[0m \u001b[0mloss\u001b[0m\u001b[0;34m.\u001b[0m\u001b[0mitem\u001b[0m\u001b[0;34m(\u001b[0m\u001b[0;34m)\u001b[0m\u001b[0;34m\u001b[0m\u001b[0;34m\u001b[0m\u001b[0m\n",
            "\u001b[0;32m/usr/local/lib/python3.6/dist-packages/torch/tensor.py\u001b[0m in \u001b[0;36mbackward\u001b[0;34m(self, gradient, retain_graph, create_graph)\u001b[0m\n\u001b[1;32m    183\u001b[0m                 \u001b[0mproducts\u001b[0m\u001b[0;34m.\u001b[0m \u001b[0mDefaults\u001b[0m \u001b[0mto\u001b[0m\u001b[0;31m \u001b[0m\u001b[0;31m`\u001b[0m\u001b[0;31m`\u001b[0m\u001b[0;32mFalse\u001b[0m\u001b[0;31m`\u001b[0m\u001b[0;31m`\u001b[0m\u001b[0;34m.\u001b[0m\u001b[0;34m\u001b[0m\u001b[0;34m\u001b[0m\u001b[0m\n\u001b[1;32m    184\u001b[0m         \"\"\"\n\u001b[0;32m--> 185\u001b[0;31m         \u001b[0mtorch\u001b[0m\u001b[0;34m.\u001b[0m\u001b[0mautograd\u001b[0m\u001b[0;34m.\u001b[0m\u001b[0mbackward\u001b[0m\u001b[0;34m(\u001b[0m\u001b[0mself\u001b[0m\u001b[0;34m,\u001b[0m \u001b[0mgradient\u001b[0m\u001b[0;34m,\u001b[0m \u001b[0mretain_graph\u001b[0m\u001b[0;34m,\u001b[0m \u001b[0mcreate_graph\u001b[0m\u001b[0;34m)\u001b[0m\u001b[0;34m\u001b[0m\u001b[0;34m\u001b[0m\u001b[0m\n\u001b[0m\u001b[1;32m    186\u001b[0m \u001b[0;34m\u001b[0m\u001b[0m\n\u001b[1;32m    187\u001b[0m     \u001b[0;32mdef\u001b[0m \u001b[0mregister_hook\u001b[0m\u001b[0;34m(\u001b[0m\u001b[0mself\u001b[0m\u001b[0;34m,\u001b[0m \u001b[0mhook\u001b[0m\u001b[0;34m)\u001b[0m\u001b[0;34m:\u001b[0m\u001b[0;34m\u001b[0m\u001b[0;34m\u001b[0m\u001b[0m\n",
            "\u001b[0;32m/usr/local/lib/python3.6/dist-packages/torch/autograd/__init__.py\u001b[0m in \u001b[0;36mbackward\u001b[0;34m(tensors, grad_tensors, retain_graph, create_graph, grad_variables)\u001b[0m\n\u001b[1;32m    125\u001b[0m     Variable._execution_engine.run_backward(\n\u001b[1;32m    126\u001b[0m         \u001b[0mtensors\u001b[0m\u001b[0;34m,\u001b[0m \u001b[0mgrad_tensors\u001b[0m\u001b[0;34m,\u001b[0m \u001b[0mretain_graph\u001b[0m\u001b[0;34m,\u001b[0m \u001b[0mcreate_graph\u001b[0m\u001b[0;34m,\u001b[0m\u001b[0;34m\u001b[0m\u001b[0;34m\u001b[0m\u001b[0m\n\u001b[0;32m--> 127\u001b[0;31m         allow_unreachable=True)  # allow_unreachable flag\n\u001b[0m\u001b[1;32m    128\u001b[0m \u001b[0;34m\u001b[0m\u001b[0m\n\u001b[1;32m    129\u001b[0m \u001b[0;34m\u001b[0m\u001b[0m\n",
            "\u001b[0;31mRuntimeError\u001b[0m: element 0 of tensors does not require grad and does not have a grad_fn"
          ]
        }
      ]
    },
    {
      "cell_type": "markdown",
      "metadata": {
        "id": "q3OsGr-PBJ9q"
      },
      "source": [
        "# **Evaluating on test set**"
      ]
    },
    {
      "cell_type": "code",
      "metadata": {
        "id": "G0dXO4TaNVz7",
        "outputId": "683cdab3-498e-4920-94e5-3af06bb3cb9b",
        "colab": {
          "base_uri": "https://localhost:8080/",
          "height": 34
        }
      },
      "source": [
        "correct = 0\n",
        "total = 0\n",
        "\n",
        "test_data_loader = torch.utils.data.DataLoader(test_data, 5, shuffle=True)\n",
        "with torch.no_grad():\n",
        "    for i, data in enumerate(test_data_loader, 0):\n",
        "        images, labels = data\n",
        "        images, labels = images.to(device), labels.to(device)\n",
        "        images = torch.cat([images, images, images], dim=1)\n",
        "        output = resnet18(images)\n",
        "        _, predicted = torch.max(output.data, 1)\n",
        "        total += labels.size(0)\n",
        "        correct += (predicted == labels).sum().item()\n",
        "    \n",
        "print(\"Accuracy on the test set:\", 100 * correct / total)"
      ],
      "execution_count": null,
      "outputs": [
        {
          "output_type": "stream",
          "text": [
            "Accuracy on the test set: 88.2\n"
          ],
          "name": "stdout"
        }
      ]
    },
    {
      "cell_type": "code",
      "metadata": {
        "id": "gs7i2DE7jRqT"
      },
      "source": [
        ""
      ],
      "execution_count": null,
      "outputs": []
    }
  ]
}
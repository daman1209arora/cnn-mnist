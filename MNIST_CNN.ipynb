{
  "nbformat": 4,
  "nbformat_minor": 0,
  "metadata": {
    "colab": {
      "name": "MNIST_CNN",
      "provenance": [],
      "authorship_tag": "ABX9TyOyjhE3mpRx+HL8+KYGzurO",
      "include_colab_link": true
    },
    "kernelspec": {
      "name": "python3",
      "display_name": "Python 3"
    }
  },
  "cells": [
    {
      "cell_type": "markdown",
      "metadata": {
        "id": "view-in-github",
        "colab_type": "text"
      },
      "source": [
        "<a href=\"https://colab.research.google.com/github/daman1209arora/cnn-mnist/blob/main/MNIST_CNN.ipynb\" target=\"_parent\"><img src=\"https://colab.research.google.com/assets/colab-badge.svg\" alt=\"Open In Colab\"/></a>"
      ]
    },
    {
      "cell_type": "code",
      "metadata": {
        "id": "95_qo_Dzgzen"
      },
      "source": [
        "import torch \n",
        "import torchvision"
      ],
      "execution_count": 2,
      "outputs": []
    },
    {
      "cell_type": "code",
      "metadata": {
        "id": "RW7RqBHFg77C"
      },
      "source": [
        "hparameters = {\n",
        "    \"train_batch_size\" : 64,\n",
        "    \"test_batch_size\" : 1000,\n",
        "    \"epochs\" : 100,\n",
        "    \"alpha\" : 0.01,\n",
        "    \"log_interval\" : 10\n",
        "}"
      ],
      "execution_count": 3,
      "outputs": []
    },
    {
      "cell_type": "code",
      "metadata": {
        "id": "l7c2HLa0g-Xo",
        "outputId": "c2dc8fec-434f-4229-d541-7b9345d01f8e",
        "colab": {
          "base_uri": "https://localhost:8080/",
          "height": 34
        }
      },
      "source": [
        "random_seed = 1\n",
        "torch.backends.cudnn.enabled = False \n",
        "torch.manual_seed(random_seed)"
      ],
      "execution_count": 4,
      "outputs": [
        {
          "output_type": "execute_result",
          "data": {
            "text/plain": [
              "<torch._C.Generator at 0x7f9f74f78660>"
            ]
          },
          "metadata": {
            "tags": []
          },
          "execution_count": 4
        }
      ]
    },
    {
      "cell_type": "code",
      "metadata": {
        "id": "A_KAgoKthIYI"
      },
      "source": [
        "data_dir = './sample_data'"
      ],
      "execution_count": 5,
      "outputs": []
    },
    {
      "cell_type": "markdown",
      "metadata": {
        "id": "Mc3eoVUunHPa"
      },
      "source": [
        "Dataset"
      ]
    },
    {
      "cell_type": "code",
      "metadata": {
        "id": "40l21gnZhQx3"
      },
      "source": [
        "train_set =  torchvision.datasets.MNIST(data_dir, train=True, download=True,\n",
        "                             transform=torchvision.transforms.Compose([\n",
        "                               torchvision.transforms.ToTensor()\n",
        "                               \n",
        "                             ]))\n",
        "# 0.1307 and 0.3081  -> mean and std deviation of MNIST dataset\n",
        "\n",
        "train_loader = torch.utils.data.DataLoader(train_set,\n",
        "  batch_size=hparameters['train_batch_size'], shuffle=True)\n",
        "\n",
        "test_set = torchvision.datasets.MNIST(data_dir, train=False, download=True,\n",
        "                             transform=torchvision.transforms.Compose([\n",
        "                               torchvision.transforms.ToTensor()\n",
        "                             ]))\n",
        "test_loader = torch.utils.data.DataLoader(train_set,\n",
        "  batch_size=hparameters['test_batch_size'], shuffle=True)"
      ],
      "execution_count": 14,
      "outputs": []
    },
    {
      "cell_type": "code",
      "metadata": {
        "id": "cmtaDqnFhTef"
      },
      "source": [
        "example = enumerate(train_loader)\n",
        "batch_id, (data,label) = next(example)"
      ],
      "execution_count": 15,
      "outputs": []
    },
    {
      "cell_type": "code",
      "metadata": {
        "id": "7zz5FKxahjtX",
        "outputId": "62312603-2722-42cf-d0e2-54c7ab843ef3",
        "colab": {
          "base_uri": "https://localhost:8080/",
          "height": 34
        }
      },
      "source": [
        "data.shape"
      ],
      "execution_count": 16,
      "outputs": [
        {
          "output_type": "execute_result",
          "data": {
            "text/plain": [
              "torch.Size([64, 1, 28, 28])"
            ]
          },
          "metadata": {
            "tags": []
          },
          "execution_count": 16
        }
      ]
    },
    {
      "cell_type": "code",
      "metadata": {
        "id": "ZSk-0GeOhqTM",
        "outputId": "240c7f47-1252-4bda-d507-78d8ed1a4f65",
        "colab": {
          "base_uri": "https://localhost:8080/",
          "height": 69
        }
      },
      "source": [
        "label"
      ],
      "execution_count": 17,
      "outputs": [
        {
          "output_type": "execute_result",
          "data": {
            "text/plain": [
              "tensor([7, 7, 3, 2, 4, 8, 7, 5, 1, 7, 1, 5, 3, 9, 1, 6, 5, 2, 0, 8, 3, 0, 9, 8,\n",
              "        3, 5, 9, 4, 3, 1, 7, 4, 9, 2, 1, 2, 3, 3, 7, 2, 7, 2, 6, 0, 9, 5, 0, 7,\n",
              "        9, 1, 7, 4, 9, 9, 0, 4, 9, 7, 6, 1, 2, 7, 9, 1])"
            ]
          },
          "metadata": {
            "tags": []
          },
          "execution_count": 17
        }
      ]
    },
    {
      "cell_type": "code",
      "metadata": {
        "id": "KBaqbuvZhrnQ",
        "outputId": "0ea2a5d5-c017-4fcc-a89e-757866f09eff",
        "colab": {
          "base_uri": "https://localhost:8080/",
          "height": 551
        }
      },
      "source": [
        "import matplotlib.pyplot as plt\n",
        "\n",
        "fig = plt.figure()\n",
        "for i in range(6):\n",
        "  plt.subplot(2,3,i+1)\n",
        "  plt.tight_layout()\n",
        "  plt.imshow(data[i][0], cmap='gray', interpolation='none')\n",
        "  plt.title(\"Ground Truth: {}\".format(label[i]))\n",
        "  plt.xticks([])\n",
        "  plt.yticks([])\n",
        "fig"
      ],
      "execution_count": 18,
      "outputs": [
        {
          "output_type": "execute_result",
          "data": {
            "image/png": "[encoded data removed]",
            "text/plain": [
              "<Figure size 432x288 with 6 Axes>"
            ]
          },
          "metadata": {
            "tags": []
          },
          "execution_count": 18
        },
        {
          "output_type": "display_data",
          "data": {
            "image/png": "[encoded data removed]",
            "text/plain": [
              "<Figure size 432x288 with 6 Axes>"
            ]
          },
          "metadata": {
            "tags": []
          }
        }
      ]
    },
    {
      "cell_type": "code",
      "metadata": {
        "id": "YQD1eBAiiKNO",
        "outputId": "9662577f-d0b2-470f-d8fc-e3086a336676",
        "colab": {
          "base_uri": "https://localhost:8080/",
          "height": 286
        }
      },
      "source": [
        "import matplotlib.pyplot as plt\n",
        "import numpy as np\n",
        "\n",
        "# functions to show an image\n",
        "\n",
        "\n",
        "def imshow(img):\n",
        "    img = img / 2 + 0.5     # unnormalize\n",
        "    npimg = img.numpy()\n",
        "    plt.imshow(np.transpose(npimg, (1, 2, 0)))\n",
        "    plt.show()\n",
        "\n",
        "\n",
        "# get some random training images\n",
        "dataiter = iter(train_loader)\n",
        "images, labels = dataiter.next()\n",
        "\n",
        "# show images\n",
        "imshow(torchvision.utils.make_grid(images))\n",
        "# print labels\n",
        "print(' '.join('%5s' % labels[j] for j in range(4)))"
      ],
      "execution_count": 19,
      "outputs": [
        {
          "output_type": "display_data",
          "data": {
            "image/png": "[encoded data removed]",
            "text/plain": [
              "<Figure size 432x288 with 1 Axes>"
            ]
          },
          "metadata": {
            "tags": [],
            "needs_background": "light"
          }
        },
        {
          "output_type": "stream",
          "text": [
            "tensor(6) tensor(4) tensor(5) tensor(5)\n"
          ],
          "name": "stdout"
        }
      ]
    },
    {
      "cell_type": "markdown",
      "metadata": {
        "id": "dzipt0WZnC-4"
      },
      "source": [
        "Model"
      ]
    },
    {
      "cell_type": "code",
      "metadata": {
        "id": "qEz_uq_Oi130"
      },
      "source": [
        "import torch.nn as nn\n",
        "import torch.nn.functional as F\n",
        "\n",
        "class ConvNet(nn.Module):\n",
        "  def __init__(self):\n",
        "    super(ConvNet,self).__init__()\n",
        "    self.conv1 = nn.Conv2d(in_channels = 1, out_channels = 6, kernel_size =5, stride = (1,1))\n",
        "    self.conv2 = nn.Conv2d(in_channels = 6, out_channels = 16, kernel_size =3, stride=(1,1))\n",
        "    self.pool = nn.MaxPool2d(kernel_size =2, stride=2)\n",
        "    self.fc1 = nn.Linear(in_features = 16*5*5, out_features=120)\n",
        "    self.fc2 = nn.Linear(in_features = 120, out_features = 84)\n",
        "    self.fc3 = nn.Linear(in_features=84,out_features=10)\n",
        "\n",
        "  def forward(self,x):\n",
        "    layer1 = self.pool(F.relu(self.conv1(x)))\n",
        "    layer2 = self.pool(F.relu(self.conv2(layer1)))\n",
        "    one_hot = layer2.view(-1,400)\n",
        "    layer3 = F.relu(self.fc1(one_hot))\n",
        "    layer4 = F.relu(self.fc2(layer3))\n",
        "    out = F.softmax(self.fc3(layer4),dim=1) \n",
        "    return out\n",
        "\n",
        "model = ConvNet()"
      ],
      "execution_count": 20,
      "outputs": []
    },
    {
      "cell_type": "markdown",
      "metadata": {
        "id": "ejX84d6anBy5"
      },
      "source": [
        "Loss and optimizer"
      ]
    },
    {
      "cell_type": "code",
      "metadata": {
        "id": "bEeexVpHm1PC"
      },
      "source": [
        "import torch.optim\n",
        "\n",
        "criteria = nn.CrossEntropyLoss()\n",
        "optimizer = torch.optim.Adam(model.parameters(),lr=hparameters['alpha'])"
      ],
      "execution_count": 21,
      "outputs": []
    },
    {
      "cell_type": "code",
      "metadata": {
        "id": "281eRcIonc5V",
        "outputId": "80a6698e-9e0a-413a-de79-e0bb2e9ea68d",
        "colab": {
          "base_uri": "https://localhost:8080/",
          "height": 208
        }
      },
      "source": [
        "for epoch in range(5):\n",
        "  print(epoch)\n",
        "  e_loss = 0.0\n",
        "  for i,data in enumerate(train_loader):\n",
        "    input,label = data\n",
        "    optimizer.zero_grad()\n",
        "    output = model(input)\n",
        "    loss = criteria(output,label)\n",
        "    loss.backward()\n",
        "    optimizer.step()\n",
        "\n",
        "    e_loss+=loss.item()\n",
        "  print(\"loss %f\",e_loss)\n",
        "  e_loss=0\n",
        "print(\"trained\")"
      ],
      "execution_count": 23,
      "outputs": [
        {
          "output_type": "stream",
          "text": [
            "0\n",
            "loss %f 1839.3597353696823\n",
            "1\n",
            "loss %f 1850.8822281360626\n",
            "2\n",
            "loss %f 1890.5244265794754\n",
            "3\n",
            "loss %f 1982.5327265262604\n",
            "4\n",
            "loss %f 1922.6467950344086\n",
            "trained\n"
          ],
          "name": "stdout"
        }
      ]
    },
    {
      "cell_type": "code",
      "metadata": {
        "id": "6UvS1fcgourE",
        "outputId": "052fb6d0-47d7-425f-a8d0-f8598d85d121",
        "colab": {
          "base_uri": "https://localhost:8080/",
          "height": 34
        }
      },
      "source": [
        "correct = 0\n",
        "total = 0\n",
        "with torch.no_grad():\n",
        "    for data in test_loader:\n",
        "        images, labels = data\n",
        "        outputs = model(images)\n",
        "        _, predicted = torch.max(outputs.data, 1)\n",
        "        total += labels.size(0)\n",
        "        correct += (predicted == labels).sum().item()\n",
        "\n",
        "print('Accuracy ',(100 * correct / total))"
      ],
      "execution_count": 24,
      "outputs": [
        {
          "output_type": "stream",
          "text": [
            "Accuracy  39.545\n"
          ],
          "name": "stdout"
        }
      ]
    },
    {
      "cell_type": "code",
      "metadata": {
        "id": "5JDlU8bzqE4X",
        "outputId": "5581b2a2-0680-447d-a21f-225c6d6d2daa",
        "colab": {
          "base_uri": "https://localhost:8080/"
        }
      },
      "source": [
        ""
      ],
      "execution_count": null,
      "outputs": [
        {
          "output_type": "execute_result",
          "data": {
            "text/plain": [
              "60000"
            ]
          },
          "metadata": {
            "tags": []
          },
          "execution_count": 41
        }
      ]
    },
    {
      "cell_type": "code",
      "metadata": {
        "id": "IO1jLzWnrlGm"
      },
      "source": [
        ""
      ],
      "execution_count": null,
      "outputs": []
    }
  ]
}
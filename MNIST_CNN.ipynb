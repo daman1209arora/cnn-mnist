{
  "nbformat": 4,
  "nbformat_minor": 0,
  "metadata": {
    "colab": {
      "name": "MNIST_CNN",
      "provenance": [],
      "authorship_tag": "ABX9TyP/KztBQdOd2HHngC49DysI",
      "include_colab_link": true
    },
    "kernelspec": {
      "name": "python3",
      "display_name": "Python 3"
    }
  },
  "cells": [
    {
      "cell_type": "markdown",
      "metadata": {
        "id": "view-in-github",
        "colab_type": "text"
      },
      "source": [
        "<a href=\"https://colab.research.google.com/github/daman1209arora/cnn-mnist/blob/main/MNIST_CNN.ipynb\" target=\"_parent\"><img src=\"https://colab.research.google.com/assets/colab-badge.svg\" alt=\"Open In Colab\"/></a>"
      ]
    },
    {
      "cell_type": "code",
      "metadata": {
        "id": "95_qo_Dzgzen"
      },
      "source": [
        "import torch \n",
        "import torchvision"
      ],
      "execution_count": 2,
      "outputs": []
    },
    {
      "cell_type": "code",
      "metadata": {
        "id": "RW7RqBHFg77C"
      },
      "source": [
        "hparameters = {\n",
        "    \"train_batch_size\" : 64,\n",
        "    \"test_batch_size\" : 1000,\n",
        "    \"epochs\" : 100,\n",
        "    \"alpha\" : 0.01,\n",
        "    \"log_interval\" : 10\n",
        "}"
      ],
      "execution_count": 29,
      "outputs": []
    },
    {
      "cell_type": "code",
      "metadata": {
        "id": "l7c2HLa0g-Xo",
        "outputId": "fac3dd53-40c4-4373-af27-38c015d2ec00",
        "colab": {
          "base_uri": "https://localhost:8080/"
        }
      },
      "source": [
        "random_seed = 1\n",
        "torch.backends.cudnn.enabled = False \n",
        "torch.manual_seed(random_seed)"
      ],
      "execution_count": 5,
      "outputs": [
        {
          "output_type": "execute_result",
          "data": {
            "text/plain": [
              "<torch._C.Generator at 0x7f6625fb6600>"
            ]
          },
          "metadata": {
            "tags": []
          },
          "execution_count": 5
        }
      ]
    },
    {
      "cell_type": "code",
      "metadata": {
        "id": "A_KAgoKthIYI"
      },
      "source": [
        "data_dir = './sample_data'"
      ],
      "execution_count": 6,
      "outputs": []
    },
    {
      "cell_type": "markdown",
      "metadata": {
        "id": "Mc3eoVUunHPa"
      },
      "source": [
        "Dataset"
      ]
    },
    {
      "cell_type": "code",
      "metadata": {
        "id": "40l21gnZhQx3"
      },
      "source": [
        "train_set =  torchvision.datasets.MNIST(data_dir, train=True, download=True,\n",
        "                             transform=torchvision.transforms.Compose([\n",
        "                               torchvision.transforms.ToTensor(),\n",
        "                               torchvision.transforms.Normalize(\n",
        "                                 (0.1307,), (0.3081,))\n",
        "                             ]))\n",
        "# 0.1307 and 0.3081  -> mean and std deviation of MNIST dataset\n",
        "\n",
        "train_loader = torch.utils.data.DataLoader(train_set,\n",
        "  batch_size=hparameters['train_batch_size'], shuffle=True)\n",
        "\n",
        "test_set = torchvision.datasets.MNIST(data_dir, train=False, download=True,\n",
        "                             transform=torchvision.transforms.Compose([\n",
        "                               torchvision.transforms.ToTensor(),\n",
        "                               torchvision.transforms.Normalize(\n",
        "                                 (0.1307,), (0.3081,))\n",
        "                             ]))\n",
        "test_loader = torch.utils.data.DataLoader(train_set,\n",
        "  batch_size=hparameters['test_batch_size'], shuffle=True)"
      ],
      "execution_count": 8,
      "outputs": []
    },
    {
      "cell_type": "code",
      "metadata": {
        "id": "cmtaDqnFhTef"
      },
      "source": [
        "example = enumerate(train_loader)\n",
        "batch_id, (data,label) = next(example)"
      ],
      "execution_count": 13,
      "outputs": []
    },
    {
      "cell_type": "code",
      "metadata": {
        "id": "7zz5FKxahjtX",
        "outputId": "21ee1287-bc22-4e12-aa3d-04c2b890fbda",
        "colab": {
          "base_uri": "https://localhost:8080/"
        }
      },
      "source": [
        "data.shape"
      ],
      "execution_count": 14,
      "outputs": [
        {
          "output_type": "execute_result",
          "data": {
            "text/plain": [
              "torch.Size([64, 1, 28, 28])"
            ]
          },
          "metadata": {
            "tags": []
          },
          "execution_count": 14
        }
      ]
    },
    {
      "cell_type": "code",
      "metadata": {
        "id": "ZSk-0GeOhqTM",
        "outputId": "eb7a03b6-38b6-4f30-a557-5ce65d1ef0db",
        "colab": {
          "base_uri": "https://localhost:8080/"
        }
      },
      "source": [
        "label"
      ],
      "execution_count": 15,
      "outputs": [
        {
          "output_type": "execute_result",
          "data": {
            "text/plain": [
              "tensor([7, 6, 1, 5, 0, 1, 6, 8, 9, 7, 6, 0, 7, 5, 2, 3, 8, 1, 2, 8, 0, 2, 9, 9,\n",
              "        2, 3, 8, 8, 0, 9, 2, 5, 7, 6, 0, 1, 4, 7, 7, 0, 0, 9, 4, 5, 1, 1, 4, 3,\n",
              "        6, 5, 9, 0, 9, 8, 9, 9, 7, 1, 5, 0, 6, 6, 9, 8])"
            ]
          },
          "metadata": {
            "tags": []
          },
          "execution_count": 15
        }
      ]
    },
    {
      "cell_type": "code",
      "metadata": {
        "id": "KBaqbuvZhrnQ",
        "outputId": "48605c4a-b8fe-4b88-c8b2-8debf0948578",
        "colab": {
          "base_uri": "https://localhost:8080/",
          "height": 551
        }
      },
      "source": [
        "import matplotlib.pyplot as plt\n",
        "\n",
        "fig = plt.figure()\n",
        "for i in range(6):\n",
        "  plt.subplot(2,3,i+1)\n",
        "  plt.tight_layout()\n",
        "  plt.imshow(data[i][0], cmap='gray', interpolation='none')\n",
        "  plt.title(\"Ground Truth: {}\".format(label[i]))\n",
        "  plt.xticks([])\n",
        "  plt.yticks([])\n",
        "fig"
      ],
      "execution_count": 19,
      "outputs": [
        {
          "output_type": "execute_result",
          "data": {
            "image/png": "[encoded data removed]",
            "text/plain": [
              "<Figure size 432x288 with 6 Axes>"
            ]
          },
          "metadata": {
            "tags": []
          },
          "execution_count": 19
        },
        {
          "output_type": "display_data",
          "data": {
            "image/png": "[encoded data removed]",
            "text/plain": [
              "<Figure size 432x288 with 6 Axes>"
            ]
          },
          "metadata": {
            "tags": []
          }
        }
      ]
    },
    {
      "cell_type": "code",
      "metadata": {
        "id": "YQD1eBAiiKNO",
        "outputId": "c4d25a2a-ad75-402b-ea1d-c5bcc35aa2fa",
        "colab": {
          "base_uri": "https://localhost:8080/",
          "height": 324
        }
      },
      "source": [
        "import matplotlib.pyplot as plt\n",
        "import numpy as np\n",
        "\n",
        "# functions to show an image\n",
        "\n",
        "\n",
        "def imshow(img):\n",
        "    img = img / 2 + 0.5     # unnormalize\n",
        "    npimg = img.numpy()\n",
        "    plt.imshow(np.transpose(npimg, (1, 2, 0)))\n",
        "    plt.show()\n",
        "\n",
        "\n",
        "# get some random training images\n",
        "dataiter = iter(train_loader)\n",
        "images, labels = dataiter.next()\n",
        "\n",
        "# show images\n",
        "imshow(torchvision.utils.make_grid(images))\n",
        "# print labels\n",
        "print(' '.join('%5s' % labels[j] for j in range(4)))"
      ],
      "execution_count": 22,
      "outputs": [
        {
          "output_type": "stream",
          "text": [
            "Clipping input data to the valid range for imshow with RGB data ([0..1] for floats or [0..255] for integers).\n"
          ],
          "name": "stderr"
        },
        {
          "output_type": "display_data",
          "data": {
            "image/png": "[encoded data removed]",
            "text/plain": [
              "<Figure size 432x288 with 1 Axes>"
            ]
          },
          "metadata": {
            "tags": [],
            "needs_background": "light"
          }
        },
        {
          "output_type": "stream",
          "text": [
            "tensor(9) tensor(0) tensor(9) tensor(1)\n"
          ],
          "name": "stdout"
        }
      ]
    },
    {
      "cell_type": "markdown",
      "metadata": {
        "id": "dzipt0WZnC-4"
      },
      "source": [
        "Model"
      ]
    },
    {
      "cell_type": "code",
      "metadata": {
        "id": "qEz_uq_Oi130"
      },
      "source": [
        "import torch.nn as nn\n",
        "import torch.nn.functional as F\n",
        "\n",
        "class ConvNet(nn.Module):\n",
        "  def __init__(self):\n",
        "    super(ConvNet,self).__init__()\n",
        "    self.conv1 = nn.Conv2d(in_channels = 1, out_channels = 6, kernel_size =5, stride = (1,1))\n",
        "    self.conv2 = nn.Conv2d(in_channels = 6, out_channels = 16, kernel_size =3, stride=(1,1))\n",
        "    self.pool = nn.MaxPool2d(kernel_size =2, stride=2)\n",
        "    self.fc1 = nn.Linear(in_features = 16*5*5, out_features=120)\n",
        "    self.fc2 = nn.Linear(in_features = 120, out_features = 84)\n",
        "    self.fc3 = nn.Linear(in_features=84,out_features=10)\n",
        "\n",
        "  def forward(self,x):\n",
        "    layer1 = self.pool(F.relu(self.conv1(x)))\n",
        "    layer2 = self.pool(F.relu(self.conv2(layer1)))\n",
        "    one_hot = layer2.view(-1,400)\n",
        "    layer3 = F.relu(self.fc1(one_hot))\n",
        "    layer4 = F.relu(self.fc2(layer3))\n",
        "    out = F.softmax(self.fc3(layer4),dim=1) \n",
        "    return out\n",
        "\n",
        "model = ConvNet()"
      ],
      "execution_count": 36,
      "outputs": []
    },
    {
      "cell_type": "markdown",
      "metadata": {
        "id": "ejX84d6anBy5"
      },
      "source": [
        "Loss and optimizer"
      ]
    },
    {
      "cell_type": "code",
      "metadata": {
        "id": "bEeexVpHm1PC"
      },
      "source": [
        "import torch.optim\n",
        "\n",
        "criteria = nn.CrossEntropyLoss()\n",
        "optimizer = torch.optim.Adam(model.parameters(),lr=hparameters['alpha'])"
      ],
      "execution_count": 37,
      "outputs": []
    },
    {
      "cell_type": "code",
      "metadata": {
        "id": "281eRcIonc5V",
        "outputId": "a0642e79-6ed7-4578-ecb5-1053add62d80",
        "colab": {
          "base_uri": "https://localhost:8080/"
        }
      },
      "source": [
        "for epoch in range(5):\n",
        "  print(epoch)\n",
        "  e_loss = 0.0\n",
        "  for i,data in enumerate(train_loader):\n",
        "    input,label = data\n",
        "    optimizer.zero_grad()\n",
        "    output = model(input)\n",
        "    loss = criteria(output,label)\n",
        "    loss.backward()\n",
        "    optimizer.step()\n",
        "\n",
        "    e_loss+=loss.item()\n",
        "  print(\"loss %f\",e_loss)\n",
        "  e_loss=0\n",
        "print(\"trained\")"
      ],
      "execution_count": 38,
      "outputs": [
        {
          "output_type": "stream",
          "text": [
            "0\n",
            "loss %f 1642.5920859575272\n",
            "1\n",
            "loss %f 1824.930666089058\n",
            "2\n",
            "loss %f 1742.584046125412\n",
            "3\n",
            "loss %f 1857.395438194275\n",
            "4\n",
            "loss %f 1931.5372023582458\n",
            "trained\n"
          ],
          "name": "stdout"
        }
      ]
    },
    {
      "cell_type": "code",
      "metadata": {
        "id": "6UvS1fcgourE",
        "outputId": "60723101-b8ad-4c61-9ad4-44dce2eccf86",
        "colab": {
          "base_uri": "https://localhost:8080/"
        }
      },
      "source": [
        "correct = 0\n",
        "total = 0\n",
        "with torch.no_grad():\n",
        "    for data in test_loader:\n",
        "        images, labels = data\n",
        "        outputs = model(images)\n",
        "        _, predicted = torch.max(outputs.data, 1)\n",
        "        total += labels.size(0)\n",
        "        correct += (predicted == labels).sum().item()\n",
        "\n",
        "print('Accuracy ',(100 * correct / total))"
      ],
      "execution_count": 40,
      "outputs": [
        {
          "output_type": "stream",
          "text": [
            "Accuracy of the network on the 10000 test images: 47 %\n"
          ],
          "name": "stdout"
        }
      ]
    },
    {
      "cell_type": "code",
      "metadata": {
        "id": "5JDlU8bzqE4X",
        "outputId": "5581b2a2-0680-447d-a21f-225c6d6d2daa",
        "colab": {
          "base_uri": "https://localhost:8080/"
        }
      },
      "source": [
        ""
      ],
      "execution_count": 41,
      "outputs": [
        {
          "output_type": "execute_result",
          "data": {
            "text/plain": [
              "60000"
            ]
          },
          "metadata": {
            "tags": []
          },
          "execution_count": 41
        }
      ]
    },
    {
      "cell_type": "code",
      "metadata": {
        "id": "IO1jLzWnrlGm"
      },
      "source": [
        ""
      ],
      "execution_count": null,
      "outputs": []
    }
  ]
}